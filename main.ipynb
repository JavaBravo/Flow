{
 "cells": [
  {
   "cell_type": "markdown",
   "metadata": {},
   "source": [
    "# Primero importamos librerias y datos necesarios"
   ]
  },
  {
   "cell_type": "code",
   "execution_count": null,
   "metadata": {},
   "outputs": [],
   "source": [
    "import pandas as pd\n",
    "import re\n",
    "\n",
    "tweets = pd.read_json('../data.json', lines=True)"
   ]
  },
  {
   "cell_type": "code",
   "execution_count": null,
   "metadata": {},
   "outputs": [],
   "source": [
    "tweets.head()"
   ]
  },
  {
   "cell_type": "markdown",
   "metadata": {},
   "source": [
    "#### Como tenemos una gran cantidad de datos, obtendremos una muestra para visualizar los resultados"
   ]
  },
  {
   "cell_type": "code",
   "execution_count": null,
   "metadata": {},
   "outputs": [],
   "source": [
    "sample = tweets.iloc[:100].copy()"
   ]
  },
  {
   "cell_type": "markdown",
   "metadata": {},
   "source": [
    "# 1. Los top 10 tweets más retweeted\n",
    "\n",
    "Haremos la función que retorna los tweets con mayor cantidad de retweets (`retweetCount`), junto con un ejemplo con la muestra"
   ]
  },
  {
   "cell_type": "code",
   "execution_count": null,
   "metadata": {},
   "outputs": [],
   "source": [
    "def topRetweets(df):\n",
    "    return df.nlargest(10, 'retweetCount')[['content', 'retweetCount','user']]"
   ]
  },
  {
   "cell_type": "code",
   "execution_count": null,
   "metadata": {},
   "outputs": [],
   "source": [
    "topRetweets(sample)"
   ]
  },
  {
   "cell_type": "markdown",
   "metadata": {},
   "source": [
    "# 2. Los top 10 usuarios en función a la cantidad de tweets que emitieron.\n",
    "\n",
    "Haremos una función que retorne los 10 usuarios con más cantidad de tweets, contando la aparición de `user` en el `dataframe`\n",
    "\n",
    "fuente: https://datascientyst.com/get-most-frequent-values-pandas-dataframe/"
   ]
  },
  {
   "cell_type": "code",
   "execution_count": null,
   "metadata": {},
   "outputs": [],
   "source": [
    "def topUsers(df):\n",
    "    users = df['user'].value_counts().index.tolist()[:10]\n",
    "    return list(map(lambda x: x['username'], users))"
   ]
  },
  {
   "cell_type": "code",
   "execution_count": null,
   "metadata": {},
   "outputs": [],
   "source": [
    "topUsers(sample)"
   ]
  }
 ],
 "metadata": {
  "language_info": {
   "name": "python"
  },
  "orig_nbformat": 4
 },
 "nbformat": 4,
 "nbformat_minor": 2
}
