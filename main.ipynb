{
 "cells": [
  {
   "cell_type": "markdown",
   "metadata": {},
   "source": [
    "# Primero importamos librerias y datos necesarios"
   ]
  },
  {
   "cell_type": "code",
   "execution_count": null,
   "metadata": {},
   "outputs": [],
   "source": [
    "import pandas as pd\n",
    "import re\n",
    "\n",
    "tweets = pd.read_json('../data.json', lines=True)"
   ]
  },
  {
   "cell_type": "code",
   "execution_count": null,
   "metadata": {},
   "outputs": [],
   "source": [
    "tweets.head()"
   ]
  },
  {
   "cell_type": "markdown",
   "metadata": {},
   "source": [
    "#### Como tenemos una gran cantidad de datos, obtendremos una muestra para visualizar los resultados"
   ]
  },
  {
   "cell_type": "code",
   "execution_count": null,
   "metadata": {},
   "outputs": [],
   "source": [
    "sample = tweets.iloc[:100].copy()"
   ]
  },
  {
   "cell_type": "markdown",
   "metadata": {},
   "source": [
    "# 1. Los top 10 tweets más retweeted\n",
    "\n",
    "Haremos la función que retorna los tweets con mayor cantidad de retweets (`retweetCount`), junto con un ejemplo con la muestra"
   ]
  },
  {
   "cell_type": "code",
   "execution_count": null,
   "metadata": {},
   "outputs": [],
   "source": [
    "def topRetweets(df):\n",
    "    return df.nlargest(10, 'retweetCount')[['content', 'retweetCount','user']]"
   ]
  },
  {
   "cell_type": "code",
   "execution_count": null,
   "metadata": {},
   "outputs": [],
   "source": [
    "topRetweets(sample)"
   ]
  },
  {
   "cell_type": "markdown",
   "metadata": {},
   "source": [
    "# 2. Los top 10 usuarios en función a la cantidad de tweets que emitieron.\n",
    "\n",
    "Haremos una función que retorne los 10 usuarios con más cantidad de tweets, contando la aparición de `user` en el `dataframe`\n",
    "\n",
    "fuente: https://datascientyst.com/get-most-frequent-values-pandas-dataframe/"
   ]
  },
  {
   "cell_type": "code",
   "execution_count": null,
   "metadata": {},
   "outputs": [],
   "source": [
    "def topUsers(df):\n",
    "    users = df['user'].value_counts().index.tolist()[:10]\n",
    "    return list(map(lambda x: x['username'], users))"
   ]
  },
  {
   "cell_type": "code",
   "execution_count": null,
   "metadata": {},
   "outputs": [],
   "source": [
    "topUsers(sample)"
   ]
  },
  {
   "cell_type": "markdown",
   "metadata": {},
   "source": [
    "# 3. Los top 10 días donde hay más tweets.\n",
    "\n",
    "Haremos una función que retorne los 10 días con más cantidad de tweets, contando la aparición de `date` en el `dataframe`, como nos interesa el día, ignoraremos el tiempo en específico del tweet con una función aplicable al `sample` o a los datos completos"
   ]
  },
  {
   "cell_type": "code",
   "execution_count": null,
   "metadata": {},
   "outputs": [],
   "source": [
    "def transformDate(df):\n",
    "    df['date'] = df['date'].dt.date\n",
    "    return df"
   ]
  },
  {
   "cell_type": "code",
   "execution_count": null,
   "metadata": {},
   "outputs": [],
   "source": [
    "transformDate(sample)"
   ]
  },
  {
   "cell_type": "code",
   "execution_count": null,
   "metadata": {},
   "outputs": [],
   "source": [
    "def topDays(df):\n",
    "    days = df['date'].value_counts().index.tolist()[:10]\n",
    "    return days\n",
    "    # return list(map(lambda x: x['date'], days))"
   ]
  },
  {
   "cell_type": "code",
   "execution_count": null,
   "metadata": {},
   "outputs": [],
   "source": [
    "topDays(sample)"
   ]
  },
  {
   "cell_type": "markdown",
   "metadata": {},
   "source": [
    "# 4. Top 10 hashtags más usados.\n",
    "\n",
    "Haremos una función que retorne los 10 _hashtags_ más usados en _tweets_, recomiendo utilizar la muestra, pues mi implementación no es tan eficiente al usar todos los datos\n",
    "\n",
    "fuente: https://www.geeksforgeeks.org/python-extract-hashtags-from-text/"
   ]
  },
  {
   "cell_type": "code",
   "execution_count": null,
   "metadata": {},
   "outputs": [],
   "source": [
    "def topHashtags(df):\n",
    "    # Obtenemos los hashtags de los tweets, sin repetición\n",
    "    hashtags = set()\n",
    "    for tweet in df['content']:\n",
    "        for hashtag in re.findall(\"#(\\w+)\", tweet):\n",
    "            hashtags.add(hashtag)\n",
    "\n",
    "    # Creamos un diccionario para contar las apariciones de cada hashtag\n",
    "    hashtag_dict = {hashtag: 0 for hashtag in hashtags}\n",
    "\n",
    "    # Para cada hashtag, contamos su presencia en tweets\n",
    "    for hashtag in hashtags:\n",
    "        for tweet in df['content']:\n",
    "            if hashtag in tweet:\n",
    "                hashtag_dict[hashtag] += 1\n",
    "\n",
    "    # Retornamos en orden los 10 más usados\n",
    "    return pd.DataFrame.from_dict(hashtag_dict.items()).nlargest(10, [1])"
   ]
  },
  {
   "cell_type": "code",
   "execution_count": null,
   "metadata": {},
   "outputs": [],
   "source": [
    "topHashtags(sample)"
   ]
  }
 ],
 "metadata": {
  "language_info": {
   "name": "python"
  },
  "orig_nbformat": 4
 },
 "nbformat": 4,
 "nbformat_minor": 2
}
